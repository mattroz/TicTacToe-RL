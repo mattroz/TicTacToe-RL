{
 "cells": [
  {
   "cell_type": "code",
   "execution_count": 1,
   "metadata": {
    "collapsed": true
   },
   "outputs": [],
   "source": [
    "import tictactoe_env as ttte\n",
    "import tictactoe_bot as tttb\n",
    "import matplotlib.pyplot as plt\n",
    "import numpy as np"
   ]
  },
  {
   "cell_type": "code",
   "execution_count": 30,
   "metadata": {},
   "outputs": [],
   "source": [
    "def game(env, bot1, bot2, with_human=False, render_flag=False):\n",
    "    global win1, win2, state1, state2, ties, turn\n",
    "    if not with_human:\n",
    "        if turn == 0:\n",
    "            r,s,done = env.step(bot1.marker, bot1.act(), render=render_flag)\n",
    "            bot1.observe(s) \n",
    "            bot1.learn(r)\n",
    "            bot2.observe(s)\n",
    "            # Check if it is win and not the tie round\n",
    "            if done:\n",
    "                if not env.tie(): \n",
    "                    win1 += 1\n",
    "                    bot2.learn(-5)\n",
    "            # Check if it is tie round, give the second bot tie reward\n",
    "                else: \n",
    "                    ties += 1\n",
    "                    bot2.learn(r)\n",
    "                return done\n",
    "            turn = 1\n",
    "        if turn == 1:\n",
    "            r,s,done = env.step(bot2.marker, bot2.act(), render=render_flag)\n",
    "            bot2.observe(s)\n",
    "            bot2.learn(r)\n",
    "            bot1.observe(s)\n",
    "            if done: \n",
    "                if not env.tie():\n",
    "                    win2 += 1\n",
    "                    bot1.learn(-5)\n",
    "                else:\n",
    "                    ties += 1\n",
    "                    bot1.learn(r)\n",
    "                return done\n",
    "            turn = 0\n",
    "            state1 = len(bot1._qvalues)\n",
    "            state2 = len(bot2._qvalues)\n",
    "    else:\n",
    "        if turn == 0:\n",
    "            r,s,done = env.step(bot1.marker, bot1.act())\n",
    "            bot1.observe(s) \n",
    "            bot1.learn(r)\n",
    "            if done: \n",
    "                print('Done')\n",
    "                return done\n",
    "            turn = 1\n",
    "        if turn == 1:\n",
    "            player_move = [int(coord) for coord in input('Your move: ').split()]\n",
    "            r,s,done = env.step('x', player_move)\n",
    "            bot1.observe(s)\n",
    "            if done: \n",
    "                print('Done')\n",
    "                bot1.learn(-5)\n",
    "                return done\n",
    "            turn = 0"
   ]
  },
  {
   "cell_type": "code",
   "execution_count": 38,
   "metadata": {
    "collapsed": true
   },
   "outputs": [],
   "source": [
    "turn = 0\n",
    "over = False\n",
    "#agent1 = tttb.RLAgent('o', learning_rate=0.05, discount_factor=1, epsilon=0.8)\n",
    "agent2 = tttb.RLAgent('x', learning_rate=0.05, discount_factor=0, epsilon=0.8)\n",
    "\n",
    "env = ttte.TicTacToeEnv(3)\n",
    "agent1.observe(env.state())\n",
    "agent2.observe(env.state())"
   ]
  },
  {
   "cell_type": "code",
   "execution_count": 58,
   "metadata": {},
   "outputs": [
    {
     "name": "stdout",
     "output_type": "stream",
     "text": [
      "Epoch # 0\n",
      "Epoch # 1\n",
      "Epoch # 2\n",
      "Epoch # 3\n",
      "Epoch # 4\n",
      "Epoch # 5\n",
      "Epoch # 6\n",
      "Epoch # 7\n",
      "Epoch # 8\n",
      "Epoch # 9\n",
      "Epoch # 10\n",
      "Epoch # 11\n",
      "Epoch # 12\n",
      "Epoch # 13\n",
      "Epoch # 14\n",
      "Epoch # 15\n",
      "Epoch # 16\n",
      "Epoch # 17\n",
      "Epoch # 18\n",
      "Epoch # 19\n",
      "Epoch # 20\n",
      "Epoch # 21\n",
      "Epoch # 22\n",
      "Epoch # 23\n",
      "Epoch # 24\n",
      "Epoch # 25\n",
      "Epoch # 26\n",
      "Epoch # 27\n",
      "Epoch # 28\n",
      "Epoch # 29\n",
      "Epoch # 30\n",
      "Epoch # 31\n",
      "Epoch # 32\n",
      "Epoch # 33\n",
      "Epoch # 34\n",
      "Epoch # 35\n",
      "Epoch # 36\n",
      "Epoch # 37\n",
      "Epoch # 38\n",
      "Epoch # 39\n",
      "Epoch # 40\n",
      "Epoch # 41\n",
      "Epoch # 42\n",
      "Epoch # 43\n",
      "Epoch # 44\n",
      "Epoch # 45\n",
      "Epoch # 46\n",
      "Epoch # 47\n",
      "Epoch # 48\n",
      "Epoch # 49\n",
      "Trained\n"
     ]
    }
   ],
   "source": [
    "agent1_wins = []\n",
    "agent2_wins = []\n",
    "agent1_states = []\n",
    "agent2_states = []\n",
    "\n",
    "win1, win2 = 0, 0\n",
    "ties = 0\n",
    "\n",
    "epochs = 50\n",
    "rounds = 10000\n",
    "\n",
    "for epoch in range(0, epochs):\n",
    "    print('Epoch #', epoch)\n",
    "    for _round in range(0, rounds):\n",
    "        state1, state2 = 0, 0\n",
    "        while not over:\n",
    "            over = game(env, agent1, agent2, render_flag=False)\n",
    "        over = False\n",
    "        env.reset()\n",
    "        agent1_wins.append(win1)\n",
    "        agent2_wins.append(win2)\n",
    "        agent1_states.append(state1)\n",
    "        agent2_states.append(state2)\n",
    "\n",
    "print(\"Trained\")"
   ]
  },
  {
   "cell_type": "code",
   "execution_count": 59,
   "metadata": {},
   "outputs": [
    {
     "data": {
      "image/png": "[encoded data removed]",
      "text/plain": [
       "<matplotlib.figure.Figure at 0x7fb59095e780>"
      ]
     },
     "metadata": {},
     "output_type": "display_data"
    },
    {
     "data": {
      "image/png": "[encoded data removed]",
      "text/plain": [
       "<matplotlib.figure.Figure at 0x7fb5a09de320>"
      ]
     },
     "metadata": {},
     "output_type": "display_data"
    },
    {
     "data": {
      "image/png": "[encoded data removed]",
      "text/plain": [
       "<matplotlib.figure.Figure at 0x7fb599961b70>"
      ]
     },
     "metadata": {},
     "output_type": "display_data"
    },
    {
     "name": "stdout",
     "output_type": "stream",
     "text": [
      "General info: \n",
      "\tgames played: 500000,\n",
      "\tties: 22517\n",
      "Agent 1: \n",
      "\twins: 48.96%, \n",
      "\tlosses: 46.54%\n",
      "Agent 2: \n",
      "\twins: 46.54%, \n",
      "\tlosses: 48.96%\n"
     ]
    }
   ],
   "source": [
    "# Wins plot\n",
    "agent1_wins_plot, = plt.plot([x for x in range (0,len(agent1_wins))], agent1_wins, label='agent 1') \n",
    "agent2_wins_plot, = plt.plot([x for x in range (0,len(agent2_wins))], agent2_wins, label='agent 2')\n",
    "plt.legend(handles=[agent1_wins_plot, agent2_wins_plot])\n",
    "plt.title('Wins timeline')\n",
    "plt.show()\n",
    "\n",
    "# Exploration plot\n",
    "agent1_explore_plot, = plt.plot([x for x in range (0,len(agent1_states))], agent1_states, label='agent 1')\n",
    "agent2_explore_plot, = plt.plot([x for x in range (0,len(agent1_states))], agent1_states, label='agent 2')\n",
    "plt.legend(handles=[agent1_explore_plot, agent2_explore_plot])\n",
    "plt.title('Number of explored states')\n",
    "plt.show()\n",
    "\n",
    "# Win/loss ratio\n",
    "total_amount_of_games = epochs*rounds\n",
    "wins_ratio = (agent1_wins[-1]/total_amount_of_games, \n",
    "              agent2_wins[-1]/total_amount_of_games)\n",
    "loss_ratio = ((total_amount_of_games - agent1_wins[-1] - ties)/total_amount_of_games, \n",
    "              (total_amount_of_games - agent2_wins[-1] - ties)/total_amount_of_games)\n",
    "ind = np.arange(2)    # the x locations for the groups\n",
    "width = 0.5       # the width of the bars: can also be len(x) sequence\n",
    "\n",
    "p1 = plt.bar(ind, wins_ratio, width)\n",
    "p2 = plt.bar(ind, loss_ratio, width,\n",
    "             bottom=wins_ratio)\n",
    "\n",
    "plt.title('Win/ratio score')\n",
    "plt.xticks(ind, ('Agent 1', 'Agent 2'))\n",
    "plt.yticks(np.arange(0, 1, 0.1))\n",
    "plt.legend((p1[0], p2[0]), ('Wins', 'Losses'))\n",
    "\n",
    "plt.show()\n",
    "\n",
    "print('General info: \\n\\tgames played: {0},\\n\\tties: {1}'.format(total_amount_of_games, ties))\n",
    "print('Agent 1: \\n\\twins: %.2f%%, \\n\\tlosses: %.2f%%' % (wins_ratio[0]*100, loss_ratio[0]*100))\n",
    "print('Agent 2: \\n\\twins: %.2f%%, \\n\\tlosses: %.2f%%' % (wins_ratio[1]*100, loss_ratio[1]*100))\n"
   ]
  },
  {
   "cell_type": "code",
   "execution_count": null,
   "metadata": {},
   "outputs": [],
   "source": [
    "env.reset()\n",
    "over = False\n",
    "while not over:\n",
    "    over = game(env, agent1, agent2, with_human=True)"
   ]
  },
  {
   "cell_type": "code",
   "execution_count": null,
   "metadata": {},
   "outputs": [],
   "source": [
    "len(agent1._qvalues)"
   ]
  },
  {
   "cell_type": "code",
   "execution_count": null,
   "metadata": {
    "collapsed": true
   },
   "outputs": [],
   "source": []
  }
 ],
 "metadata": {
  "kernelspec": {
   "display_name": "Python 3",
   "language": "python",
   "name": "python3"
  },
  "language_info": {
   "codemirror_mode": {
    "name": "ipython",
    "version": 3
   },
   "file_extension": ".py",
   "mimetype": "text/x-python",
   "name": "python",
   "nbconvert_exporter": "python",
   "pygments_lexer": "ipython3",
   "version": "3.6.1"
  }
 },
 "nbformat": 4,
 "nbformat_minor": 2
}
